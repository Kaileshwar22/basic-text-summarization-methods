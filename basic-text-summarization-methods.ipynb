{
 "cells": [
  {
   "cell_type": "code",
   "execution_count": 1,
   "metadata": {
    "_cell_guid": "b1076dfc-b9ad-4769-8c92-a6c4dae69d19",
    "_uuid": "8f2839f25d086af736a60e9eeb907d3b93b6e0e5",
    "execution": {
     "iopub.execute_input": "2024-01-05T15:46:21.694210Z",
     "iopub.status.busy": "2024-01-05T15:46:21.693743Z",
     "iopub.status.idle": "2024-01-05T15:46:22.250377Z",
     "shell.execute_reply": "2024-01-05T15:46:22.248471Z",
     "shell.execute_reply.started": "2024-01-05T15:46:21.694171Z"
    }
   },
   "outputs": [
    {
     "name": "stderr",
     "output_type": "stream",
     "text": [
      "C:\\Users\\Acer\\AppData\\Local\\Temp\\ipykernel_17616\\1662815981.py:2: DeprecationWarning: \n",
      "Pyarrow will become a required dependency of pandas in the next major release of pandas (pandas 3.0),\n",
      "(to allow more performant data types, such as the Arrow string type, and better interoperability with other libraries)\n",
      "but was not found to be installed on your system.\n",
      "If this would cause problems for you,\n",
      "please provide us feedback at https://github.com/pandas-dev/pandas/issues/54466\n",
      "        \n",
      "  import pandas as pd\n"
     ]
    }
   ],
   "source": [
    "import numpy as np\n",
    "import pandas as pd"
   ]
  },
  {
   "cell_type": "code",
   "execution_count": 2,
   "metadata": {
    "execution": {
     "iopub.execute_input": "2024-01-05T15:46:22.255320Z",
     "iopub.status.busy": "2024-01-05T15:46:22.254302Z",
     "iopub.status.idle": "2024-01-05T15:47:01.013305Z",
     "shell.execute_reply": "2024-01-05T15:47:01.011699Z",
     "shell.execute_reply.started": "2024-01-05T15:46:22.255258Z"
    }
   },
   "outputs": [],
   "source": [
    "df_train = pd.read_csv(\"train.csv\")\n",
    "df_test = pd.read_csv(\"test.csv\")\n",
    "df_validation = pd.read_csv(\"validation.csv\")"
   ]
  },
  {
   "cell_type": "code",
   "execution_count": 3,
   "metadata": {
    "execution": {
     "iopub.execute_input": "2024-01-05T15:47:01.015929Z",
     "iopub.status.busy": "2024-01-05T15:47:01.015491Z",
     "iopub.status.idle": "2024-01-05T15:47:01.040983Z",
     "shell.execute_reply": "2024-01-05T15:47:01.039806Z",
     "shell.execute_reply.started": "2024-01-05T15:47:01.015892Z"
    }
   },
   "outputs": [
    {
     "data": {
      "text/html": [
       "<div>\n",
       "<style scoped>\n",
       "    .dataframe tbody tr th:only-of-type {\n",
       "        vertical-align: middle;\n",
       "    }\n",
       "\n",
       "    .dataframe tbody tr th {\n",
       "        vertical-align: top;\n",
       "    }\n",
       "\n",
       "    .dataframe thead th {\n",
       "        text-align: right;\n",
       "    }\n",
       "</style>\n",
       "<table border=\"1\" class=\"dataframe\">\n",
       "  <thead>\n",
       "    <tr style=\"text-align: right;\">\n",
       "      <th></th>\n",
       "      <th>id</th>\n",
       "      <th>article</th>\n",
       "      <th>highlights</th>\n",
       "    </tr>\n",
       "  </thead>\n",
       "  <tbody>\n",
       "    <tr>\n",
       "      <th>0</th>\n",
       "      <td>0001d1afc246a7964130f43ae940af6bc6c57f01</td>\n",
       "      <td>By . Associated Press . PUBLISHED: . 14:11 EST...</td>\n",
       "      <td>Bishop John Folda, of North Dakota, is taking ...</td>\n",
       "    </tr>\n",
       "    <tr>\n",
       "      <th>1</th>\n",
       "      <td>0002095e55fcbd3a2f366d9bf92a95433dc305ef</td>\n",
       "      <td>(CNN) -- Ralph Mata was an internal affairs li...</td>\n",
       "      <td>Criminal complaint: Cop used his role to help ...</td>\n",
       "    </tr>\n",
       "    <tr>\n",
       "      <th>2</th>\n",
       "      <td>00027e965c8264c35cc1bc55556db388da82b07f</td>\n",
       "      <td>A drunk driver who killed a young woman in a h...</td>\n",
       "      <td>Craig Eccleston-Todd, 27, had drunk at least t...</td>\n",
       "    </tr>\n",
       "    <tr>\n",
       "      <th>3</th>\n",
       "      <td>0002c17436637c4fe1837c935c04de47adb18e9a</td>\n",
       "      <td>(CNN) -- With a breezy sweep of his pen Presid...</td>\n",
       "      <td>Nina dos Santos says Europe must be ready to a...</td>\n",
       "    </tr>\n",
       "    <tr>\n",
       "      <th>4</th>\n",
       "      <td>0003ad6ef0c37534f80b55b4235108024b407f0b</td>\n",
       "      <td>Fleetwood are the only team still to have a 10...</td>\n",
       "      <td>Fleetwood top of League One after 2-0 win at S...</td>\n",
       "    </tr>\n",
       "  </tbody>\n",
       "</table>\n",
       "</div>"
      ],
      "text/plain": [
       "                                         id  \\\n",
       "0  0001d1afc246a7964130f43ae940af6bc6c57f01   \n",
       "1  0002095e55fcbd3a2f366d9bf92a95433dc305ef   \n",
       "2  00027e965c8264c35cc1bc55556db388da82b07f   \n",
       "3  0002c17436637c4fe1837c935c04de47adb18e9a   \n",
       "4  0003ad6ef0c37534f80b55b4235108024b407f0b   \n",
       "\n",
       "                                             article  \\\n",
       "0  By . Associated Press . PUBLISHED: . 14:11 EST...   \n",
       "1  (CNN) -- Ralph Mata was an internal affairs li...   \n",
       "2  A drunk driver who killed a young woman in a h...   \n",
       "3  (CNN) -- With a breezy sweep of his pen Presid...   \n",
       "4  Fleetwood are the only team still to have a 10...   \n",
       "\n",
       "                                          highlights  \n",
       "0  Bishop John Folda, of North Dakota, is taking ...  \n",
       "1  Criminal complaint: Cop used his role to help ...  \n",
       "2  Craig Eccleston-Todd, 27, had drunk at least t...  \n",
       "3  Nina dos Santos says Europe must be ready to a...  \n",
       "4  Fleetwood top of League One after 2-0 win at S...  "
      ]
     },
     "execution_count": 3,
     "metadata": {},
     "output_type": "execute_result"
    }
   ],
   "source": [
    "df_train.head()"
   ]
  },
  {
   "cell_type": "code",
   "execution_count": 4,
   "metadata": {
    "execution": {
     "iopub.execute_input": "2024-01-05T15:47:01.043617Z",
     "iopub.status.busy": "2024-01-05T15:47:01.043141Z",
     "iopub.status.idle": "2024-01-05T15:47:01.399261Z",
     "shell.execute_reply": "2024-01-05T15:47:01.397273Z",
     "shell.execute_reply.started": "2024-01-05T15:47:01.043572Z"
    }
   },
   "outputs": [
    {
     "name": "stdout",
     "output_type": "stream",
     "text": [
      "<class 'pandas.core.frame.DataFrame'>\n",
      "RangeIndex: 287113 entries, 0 to 287112\n",
      "Data columns (total 3 columns):\n",
      " #   Column      Non-Null Count   Dtype \n",
      "---  ------      --------------   ----- \n",
      " 0   id          287113 non-null  object\n",
      " 1   article     287113 non-null  object\n",
      " 2   highlights  287113 non-null  object\n",
      "dtypes: object(3)\n",
      "memory usage: 1.7 GB\n"
     ]
    }
   ],
   "source": [
    "df_train.info(memory_usage='deep')"
   ]
  },
  {
   "cell_type": "code",
   "execution_count": 5,
   "metadata": {
    "execution": {
     "iopub.execute_input": "2024-01-05T15:47:01.402462Z",
     "iopub.status.busy": "2024-01-05T15:47:01.402090Z",
     "iopub.status.idle": "2024-01-05T15:47:01.410089Z",
     "shell.execute_reply": "2024-01-05T15:47:01.408748Z",
     "shell.execute_reply.started": "2024-01-05T15:47:01.402431Z"
    }
   },
   "outputs": [
    {
     "data": {
      "text/plain": [
       "'Bishop John Folda, of North Dakota, is taking time off after being diagnosed .\\nHe contracted the infection through contaminated food in Italy .\\nChurch members in Fargo, Grand Forks and Jamestown could have been exposed .'"
      ]
     },
     "execution_count": 5,
     "metadata": {},
     "output_type": "execute_result"
    }
   ],
   "source": [
    "df_train.iloc[0].highlights"
   ]
  },
  {
   "cell_type": "code",
   "execution_count": 6,
   "metadata": {
    "execution": {
     "iopub.execute_input": "2024-01-05T15:47:01.414321Z",
     "iopub.status.busy": "2024-01-05T15:47:01.413571Z",
     "iopub.status.idle": "2024-01-05T15:47:01.425582Z",
     "shell.execute_reply": "2024-01-05T15:47:01.423713Z",
     "shell.execute_reply.started": "2024-01-05T15:47:01.414250Z"
    }
   },
   "outputs": [
    {
     "data": {
      "text/plain": [
       "\"By . Associated Press . PUBLISHED: . 14:11 EST, 25 October 2013 . | . UPDATED: . 15:36 EST, 25 October 2013 . The bishop of the Fargo Catholic Diocese in North Dakota has exposed potentially hundreds of church members in Fargo, Grand Forks and Jamestown to the hepatitis A virus in late September and early October. The state Health Department has issued an advisory of exposure for anyone who attended five churches and took communion. Bishop John Folda (pictured) of the Fargo Catholic Diocese in North Dakota has exposed potentially hundreds of church members in Fargo, Grand Forks and Jamestown to the hepatitis A . State Immunization Program Manager Molly Howell says the risk is low, but officials feel it's important to alert people to the possible exposure. The diocese announced on Monday that Bishop John Folda is taking time off after being diagnosed with hepatitis A. The diocese says he contracted the infection through contaminated food while attending a conference for newly ordained bishops in Italy last month. Symptoms of hepatitis A include fever, tiredness, loss of appetite, nausea and abdominal discomfort. Fargo Catholic Diocese in North Dakota (pictured) is where the bishop is located .\""
      ]
     },
     "execution_count": 6,
     "metadata": {},
     "output_type": "execute_result"
    }
   ],
   "source": [
    "df_train.iloc[0].article"
   ]
  },
  {
   "cell_type": "markdown",
   "metadata": {},
   "source": [
    "## Extractive Methods\n",
    "\n",
    "All extractive methods follow these three basic steps:\n",
    "1. Create an intermediate representation of the text.\n",
    "2. Score the sentences/phrases based on the chosen representation.\n",
    "3. Rank and choose sentences to create a summary of the text."
   ]
  },
  {
   "cell_type": "markdown",
   "metadata": {},
   "source": [
    "## Data Preprocessing"
   ]
  },
  {
   "cell_type": "code",
   "execution_count": 7,
   "metadata": {
    "execution": {
     "iopub.execute_input": "2024-01-05T15:47:01.428762Z",
     "iopub.status.busy": "2024-01-05T15:47:01.428150Z",
     "iopub.status.idle": "2024-01-05T15:47:17.080358Z",
     "shell.execute_reply": "2024-01-05T15:47:17.079104Z",
     "shell.execute_reply.started": "2024-01-05T15:47:01.428668Z"
    }
   },
   "outputs": [
    {
     "name": "stdout",
     "output_type": "stream",
     "text": [
      "Collecting textacy\n",
      "  Downloading textacy-0.13.0-py3-none-any.whl.metadata (5.3 kB)\n",
      "Collecting cachetools>=4.0.0 (from textacy)\n",
      "  Downloading cachetools-5.3.2-py3-none-any.whl.metadata (5.2 kB)\n",
      "Requirement already satisfied: catalogue~=2.0 in c:\\users\\acer\\appdata\\local\\packages\\pythonsoftwarefoundation.python.3.11_qbz5n2kfra8p0\\localcache\\local-packages\\python311\\site-packages (from textacy) (2.0.10)\n",
      "Collecting cytoolz>=0.10.1 (from textacy)\n",
      "  Downloading cytoolz-0.12.3-cp311-cp311-win_amd64.whl.metadata (4.7 kB)\n",
      "Collecting floret~=0.10.0 (from textacy)\n",
      "  Downloading floret-0.10.5-cp311-cp311-win_amd64.whl.metadata (3.2 kB)\n",
      "Collecting jellyfish>=0.8.0 (from textacy)\n",
      "  Downloading jellyfish-1.0.3-cp311-none-win_amd64.whl.metadata (2.6 kB)\n",
      "Requirement already satisfied: joblib>=0.13.0 in c:\\users\\acer\\appdata\\local\\packages\\pythonsoftwarefoundation.python.3.11_qbz5n2kfra8p0\\localcache\\local-packages\\python311\\site-packages (from textacy) (1.3.2)\n",
      "Requirement already satisfied: networkx>=2.7 in c:\\users\\acer\\appdata\\local\\packages\\pythonsoftwarefoundation.python.3.11_qbz5n2kfra8p0\\localcache\\local-packages\\python311\\site-packages (from textacy) (3.2.1)\n",
      "Requirement already satisfied: numpy>=1.17.0 in c:\\users\\acer\\appdata\\local\\packages\\pythonsoftwarefoundation.python.3.11_qbz5n2kfra8p0\\localcache\\local-packages\\python311\\site-packages (from textacy) (1.26.3)\n",
      "Collecting pyphen>=0.10.0 (from textacy)\n",
      "  Downloading pyphen-0.14.0-py3-none-any.whl.metadata (3.3 kB)\n",
      "Requirement already satisfied: requests>=2.10.0 in c:\\users\\acer\\appdata\\local\\packages\\pythonsoftwarefoundation.python.3.11_qbz5n2kfra8p0\\localcache\\local-packages\\python311\\site-packages (from textacy) (2.31.0)\n",
      "Requirement already satisfied: scipy>=1.8.0 in c:\\users\\acer\\appdata\\local\\packages\\pythonsoftwarefoundation.python.3.11_qbz5n2kfra8p0\\localcache\\local-packages\\python311\\site-packages (from textacy) (1.12.0)\n",
      "Requirement already satisfied: scikit-learn>=1.0 in c:\\users\\acer\\appdata\\local\\packages\\pythonsoftwarefoundation.python.3.11_qbz5n2kfra8p0\\localcache\\local-packages\\python311\\site-packages (from textacy) (1.4.0)\n",
      "Requirement already satisfied: spacy~=3.0 in c:\\users\\acer\\appdata\\local\\packages\\pythonsoftwarefoundation.python.3.11_qbz5n2kfra8p0\\localcache\\local-packages\\python311\\site-packages (from textacy) (3.7.2)\n",
      "Requirement already satisfied: tqdm>=4.19.6 in c:\\users\\acer\\appdata\\local\\packages\\pythonsoftwarefoundation.python.3.11_qbz5n2kfra8p0\\localcache\\local-packages\\python311\\site-packages (from textacy) (4.66.1)\n",
      "Collecting toolz>=0.8.0 (from cytoolz>=0.10.1->textacy)\n",
      "  Downloading toolz-0.12.1-py3-none-any.whl.metadata (5.1 kB)\n",
      "Requirement already satisfied: charset-normalizer<4,>=2 in c:\\users\\acer\\appdata\\local\\packages\\pythonsoftwarefoundation.python.3.11_qbz5n2kfra8p0\\localcache\\local-packages\\python311\\site-packages (from requests>=2.10.0->textacy) (3.3.2)\n",
      "Requirement already satisfied: idna<4,>=2.5 in c:\\users\\acer\\appdata\\local\\packages\\pythonsoftwarefoundation.python.3.11_qbz5n2kfra8p0\\localcache\\local-packages\\python311\\site-packages (from requests>=2.10.0->textacy) (2.10)\n",
      "Requirement already satisfied: urllib3<3,>=1.21.1 in c:\\users\\acer\\appdata\\local\\packages\\pythonsoftwarefoundation.python.3.11_qbz5n2kfra8p0\\localcache\\local-packages\\python311\\site-packages (from requests>=2.10.0->textacy) (2.1.0)\n",
      "Requirement already satisfied: certifi>=2017.4.17 in c:\\users\\acer\\appdata\\local\\packages\\pythonsoftwarefoundation.python.3.11_qbz5n2kfra8p0\\localcache\\local-packages\\python311\\site-packages (from requests>=2.10.0->textacy) (2023.11.17)\n",
      "Requirement already satisfied: threadpoolctl>=2.0.0 in c:\\users\\acer\\appdata\\local\\packages\\pythonsoftwarefoundation.python.3.11_qbz5n2kfra8p0\\localcache\\local-packages\\python311\\site-packages (from scikit-learn>=1.0->textacy) (3.2.0)\n",
      "Requirement already satisfied: spacy-legacy<3.1.0,>=3.0.11 in c:\\users\\acer\\appdata\\local\\packages\\pythonsoftwarefoundation.python.3.11_qbz5n2kfra8p0\\localcache\\local-packages\\python311\\site-packages (from spacy~=3.0->textacy) (3.0.12)\n",
      "Requirement already satisfied: spacy-loggers<2.0.0,>=1.0.0 in c:\\users\\acer\\appdata\\local\\packages\\pythonsoftwarefoundation.python.3.11_qbz5n2kfra8p0\\localcache\\local-packages\\python311\\site-packages (from spacy~=3.0->textacy) (1.0.5)\n",
      "Requirement already satisfied: murmurhash<1.1.0,>=0.28.0 in c:\\users\\acer\\appdata\\local\\packages\\pythonsoftwarefoundation.python.3.11_qbz5n2kfra8p0\\localcache\\local-packages\\python311\\site-packages (from spacy~=3.0->textacy) (1.0.10)\n",
      "Requirement already satisfied: cymem<2.1.0,>=2.0.2 in c:\\users\\acer\\appdata\\local\\packages\\pythonsoftwarefoundation.python.3.11_qbz5n2kfra8p0\\localcache\\local-packages\\python311\\site-packages (from spacy~=3.0->textacy) (2.0.8)\n",
      "Requirement already satisfied: preshed<3.1.0,>=3.0.2 in c:\\users\\acer\\appdata\\local\\packages\\pythonsoftwarefoundation.python.3.11_qbz5n2kfra8p0\\localcache\\local-packages\\python311\\site-packages (from spacy~=3.0->textacy) (3.0.9)\n",
      "Requirement already satisfied: thinc<8.3.0,>=8.1.8 in c:\\users\\acer\\appdata\\local\\packages\\pythonsoftwarefoundation.python.3.11_qbz5n2kfra8p0\\localcache\\local-packages\\python311\\site-packages (from spacy~=3.0->textacy) (8.2.2)\n",
      "Requirement already satisfied: wasabi<1.2.0,>=0.9.1 in c:\\users\\acer\\appdata\\local\\packages\\pythonsoftwarefoundation.python.3.11_qbz5n2kfra8p0\\localcache\\local-packages\\python311\\site-packages (from spacy~=3.0->textacy) (1.1.2)\n",
      "Requirement already satisfied: srsly<3.0.0,>=2.4.3 in c:\\users\\acer\\appdata\\local\\packages\\pythonsoftwarefoundation.python.3.11_qbz5n2kfra8p0\\localcache\\local-packages\\python311\\site-packages (from spacy~=3.0->textacy) (2.4.8)\n",
      "Requirement already satisfied: weasel<0.4.0,>=0.1.0 in c:\\users\\acer\\appdata\\local\\packages\\pythonsoftwarefoundation.python.3.11_qbz5n2kfra8p0\\localcache\\local-packages\\python311\\site-packages (from spacy~=3.0->textacy) (0.3.4)\n",
      "Requirement already satisfied: typer<0.10.0,>=0.3.0 in c:\\users\\acer\\appdata\\local\\packages\\pythonsoftwarefoundation.python.3.11_qbz5n2kfra8p0\\localcache\\local-packages\\python311\\site-packages (from spacy~=3.0->textacy) (0.9.0)\n",
      "Requirement already satisfied: smart-open<7.0.0,>=5.2.1 in c:\\users\\acer\\appdata\\local\\packages\\pythonsoftwarefoundation.python.3.11_qbz5n2kfra8p0\\localcache\\local-packages\\python311\\site-packages (from spacy~=3.0->textacy) (6.4.0)\n",
      "Requirement already satisfied: pydantic!=1.8,!=1.8.1,<3.0.0,>=1.7.4 in c:\\users\\acer\\appdata\\local\\packages\\pythonsoftwarefoundation.python.3.11_qbz5n2kfra8p0\\localcache\\local-packages\\python311\\site-packages (from spacy~=3.0->textacy) (2.6.0)\n",
      "Requirement already satisfied: jinja2 in c:\\users\\acer\\appdata\\local\\packages\\pythonsoftwarefoundation.python.3.11_qbz5n2kfra8p0\\localcache\\local-packages\\python311\\site-packages (from spacy~=3.0->textacy) (3.1.3)\n",
      "Requirement already satisfied: setuptools in c:\\program files\\windowsapps\\pythonsoftwarefoundation.python.3.11_3.11.2288.0_x64__qbz5n2kfra8p0\\lib\\site-packages (from spacy~=3.0->textacy) (65.5.0)\n",
      "Requirement already satisfied: packaging>=20.0 in c:\\users\\acer\\appdata\\local\\packages\\pythonsoftwarefoundation.python.3.11_qbz5n2kfra8p0\\localcache\\local-packages\\python311\\site-packages (from spacy~=3.0->textacy) (23.2)\n",
      "Requirement already satisfied: langcodes<4.0.0,>=3.2.0 in c:\\users\\acer\\appdata\\local\\packages\\pythonsoftwarefoundation.python.3.11_qbz5n2kfra8p0\\localcache\\local-packages\\python311\\site-packages (from spacy~=3.0->textacy) (3.3.0)\n",
      "Requirement already satisfied: colorama in c:\\users\\acer\\appdata\\local\\packages\\pythonsoftwarefoundation.python.3.11_qbz5n2kfra8p0\\localcache\\local-packages\\python311\\site-packages (from tqdm>=4.19.6->textacy) (0.4.6)\n",
      "Requirement already satisfied: annotated-types>=0.4.0 in c:\\users\\acer\\appdata\\local\\packages\\pythonsoftwarefoundation.python.3.11_qbz5n2kfra8p0\\localcache\\local-packages\\python311\\site-packages (from pydantic!=1.8,!=1.8.1,<3.0.0,>=1.7.4->spacy~=3.0->textacy) (0.6.0)\n",
      "Requirement already satisfied: pydantic-core==2.16.1 in c:\\users\\acer\\appdata\\local\\packages\\pythonsoftwarefoundation.python.3.11_qbz5n2kfra8p0\\localcache\\local-packages\\python311\\site-packages (from pydantic!=1.8,!=1.8.1,<3.0.0,>=1.7.4->spacy~=3.0->textacy) (2.16.1)\n",
      "Requirement already satisfied: typing-extensions>=4.6.1 in c:\\users\\acer\\appdata\\local\\packages\\pythonsoftwarefoundation.python.3.11_qbz5n2kfra8p0\\localcache\\local-packages\\python311\\site-packages (from pydantic!=1.8,!=1.8.1,<3.0.0,>=1.7.4->spacy~=3.0->textacy) (4.9.0)\n",
      "Requirement already satisfied: blis<0.8.0,>=0.7.8 in c:\\users\\acer\\appdata\\local\\packages\\pythonsoftwarefoundation.python.3.11_qbz5n2kfra8p0\\localcache\\local-packages\\python311\\site-packages (from thinc<8.3.0,>=8.1.8->spacy~=3.0->textacy) (0.7.11)\n",
      "Requirement already satisfied: confection<1.0.0,>=0.0.1 in c:\\users\\acer\\appdata\\local\\packages\\pythonsoftwarefoundation.python.3.11_qbz5n2kfra8p0\\localcache\\local-packages\\python311\\site-packages (from thinc<8.3.0,>=8.1.8->spacy~=3.0->textacy) (0.1.4)\n",
      "Requirement already satisfied: click<9.0.0,>=7.1.1 in c:\\users\\acer\\appdata\\local\\packages\\pythonsoftwarefoundation.python.3.11_qbz5n2kfra8p0\\localcache\\local-packages\\python311\\site-packages (from typer<0.10.0,>=0.3.0->spacy~=3.0->textacy) (8.1.7)\n",
      "Requirement already satisfied: cloudpathlib<0.17.0,>=0.7.0 in c:\\users\\acer\\appdata\\local\\packages\\pythonsoftwarefoundation.python.3.11_qbz5n2kfra8p0\\localcache\\local-packages\\python311\\site-packages (from weasel<0.4.0,>=0.1.0->spacy~=3.0->textacy) (0.16.0)\n",
      "Requirement already satisfied: MarkupSafe>=2.0 in c:\\users\\acer\\appdata\\local\\packages\\pythonsoftwarefoundation.python.3.11_qbz5n2kfra8p0\\localcache\\local-packages\\python311\\site-packages (from jinja2->spacy~=3.0->textacy) (2.1.4)\n",
      "Downloading textacy-0.13.0-py3-none-any.whl (210 kB)\n",
      "   ---------------------------------------- 0.0/210.7 kB ? eta -:--:--\n",
      "   ---------------------------------------- 0.0/210.7 kB ? eta -:--:--\n",
      "   ---------------------------------------- 0.0/210.7 kB ? eta -:--:--\n",
      "   ----- ---------------------------------- 30.7/210.7 kB ? eta -:--:--\n",
      "   ----- ---------------------------------- 30.7/210.7 kB ? eta -:--:--\n",
      "   ----- ---------------------------------- 30.7/210.7 kB ? eta -:--:--\n",
      "   ----- ---------------------------------- 30.7/210.7 kB ? eta -:--:--\n",
      "   ----- ---------------------------------- 30.7/210.7 kB ? eta -:--:--\n",
      "   ----- ---------------------------------- 30.7/210.7 kB ? eta -:--:--\n",
      "   ----- ---------------------------------- 30.7/210.7 kB ? eta -:--:--\n",
      "   ----- ---------------------------------- 30.7/210.7 kB ? eta -:--:--\n",
      "   ---------------------- --------------- 122.9/210.7 kB 276.8 kB/s eta 0:00:01\n",
      "   ---------------------- --------------- 122.9/210.7 kB 276.8 kB/s eta 0:00:01\n",
      "   ---------------------- --------------- 122.9/210.7 kB 276.8 kB/s eta 0:00:01\n",
      "   ---------------------- --------------- 122.9/210.7 kB 276.8 kB/s eta 0:00:01\n",
      "   ---------------------- --------------- 122.9/210.7 kB 276.8 kB/s eta 0:00:01\n",
      "   ---------------------- --------------- 122.9/210.7 kB 276.8 kB/s eta 0:00:01\n",
      "   ---------------------- --------------- 122.9/210.7 kB 276.8 kB/s eta 0:00:01\n",
      "   ---------------------- --------------- 122.9/210.7 kB 276.8 kB/s eta 0:00:01\n",
      "   ---------------------- --------------- 122.9/210.7 kB 276.8 kB/s eta 0:00:01\n",
      "   ---------------------- --------------- 122.9/210.7 kB 276.8 kB/s eta 0:00:01\n",
      "   ---------------------- --------------- 122.9/210.7 kB 276.8 kB/s eta 0:00:01\n",
      "   -------------------------------------- 210.7/210.7 kB 224.9 kB/s eta 0:00:00\n",
      "Downloading cachetools-5.3.2-py3-none-any.whl (9.3 kB)\n",
      "Downloading cytoolz-0.12.3-cp311-cp311-win_amd64.whl (363 kB)\n",
      "   ---------------------------------------- 0.0/363.6 kB ? eta -:--:--\n",
      "   ---------------------------------------- 0.0/363.6 kB ? eta -:--:--\n",
      "   ---------------------------------------- 0.0/363.6 kB ? eta -:--:--\n",
      "   ---------------------------------------- 0.0/363.6 kB ? eta -:--:--\n",
      "   ---- ----------------------------------- 41.0/363.6 kB ? eta -:--:--\n",
      "   ------------- -------------------------- 122.9/363.6 kB 1.8 MB/s eta 0:00:01\n",
      "   ------------- -------------------------- 122.9/363.6 kB 1.8 MB/s eta 0:00:01\n",
      "   ---------------- ----------------------- 153.6/363.6 kB 1.0 MB/s eta 0:00:01\n",
      "   ------------------ ------------------- 174.1/363.6 kB 876.1 kB/s eta 0:00:01\n",
      "   ------------------ ------------------- 174.1/363.6 kB 876.1 kB/s eta 0:00:01\n",
      "   ------------------------ ------------- 235.5/363.6 kB 846.9 kB/s eta 0:00:01\n",
      "   -------------------------- ----------- 256.0/363.6 kB 749.3 kB/s eta 0:00:01\n",
      "   -------------------------- ----------- 256.0/363.6 kB 749.3 kB/s eta 0:00:01\n",
      "   -------------------------------------- 363.6/363.6 kB 837.3 kB/s eta 0:00:00\n",
      "Downloading floret-0.10.5-cp311-cp311-win_amd64.whl (242 kB)\n",
      "   ---------------------------------------- 0.0/242.6 kB ? eta -:--:--\n",
      "   ---------------------------------------- 0.0/242.6 kB ? eta -:--:--\n",
      "   ------ -------------------------------- 41.0/242.6 kB 960.0 kB/s eta 0:00:01\n",
      "   --------------- ------------------------ 92.2/242.6 kB 1.3 MB/s eta 0:00:01\n",
      "   -------------------- ------------------- 122.9/242.6 kB 1.2 MB/s eta 0:00:01\n",
      "   --------------------------------- ------ 204.8/242.6 kB 1.4 MB/s eta 0:00:01\n",
      "   ------------------------------------- -- 225.3/242.6 kB 1.4 MB/s eta 0:00:01\n",
      "   ---------------------------------------- 242.6/242.6 kB 1.1 MB/s eta 0:00:00\n",
      "Downloading jellyfish-1.0.3-cp311-none-win_amd64.whl (210 kB)\n",
      "   ---------------------------------------- 0.0/210.9 kB ? eta -:--:--\n",
      "   ------- -------------------------------- 41.0/210.9 kB ? eta -:--:--\n",
      "   ------------------------------- -------- 163.8/210.9 kB 2.4 MB/s eta 0:00:01\n",
      "   ------------------------------------ --- 194.6/210.9 kB 2.0 MB/s eta 0:00:01\n",
      "   ---------------------------------------- 210.9/210.9 kB 1.6 MB/s eta 0:00:00\n",
      "Downloading pyphen-0.14.0-py3-none-any.whl (2.0 MB)\n",
      "   ---------------------------------------- 0.0/2.0 MB ? eta -:--:--\n",
      "    --------------------------------------- 0.0/2.0 MB ? eta -:--:--\n",
      "   - -------------------------------------- 0.1/2.0 MB 1.1 MB/s eta 0:00:02\n",
      "   -- ------------------------------------- 0.1/2.0 MB 1.3 MB/s eta 0:00:02\n",
      "   -- ------------------------------------- 0.1/2.0 MB 1.3 MB/s eta 0:00:02\n",
      "   --- ------------------------------------ 0.2/2.0 MB 766.6 kB/s eta 0:00:03\n",
      "   --- ------------------------------------ 0.2/2.0 MB 766.6 kB/s eta 0:00:03\n",
      "   --- ------------------------------------ 0.2/2.0 MB 766.6 kB/s eta 0:00:03\n",
      "   ----- ---------------------------------- 0.3/2.0 MB 983.9 kB/s eta 0:00:02\n",
      "   ------ --------------------------------- 0.3/2.0 MB 984.6 kB/s eta 0:00:02\n",
      "   ------ --------------------------------- 0.3/2.0 MB 984.6 kB/s eta 0:00:02\n",
      "   ------ --------------------------------- 0.3/2.0 MB 984.6 kB/s eta 0:00:02\n",
      "   ------ --------------------------------- 0.3/2.0 MB 984.6 kB/s eta 0:00:02\n",
      "   ------- -------------------------------- 0.4/2.0 MB 757.8 kB/s eta 0:00:03\n",
      "   -------- ------------------------------- 0.4/2.0 MB 809.9 kB/s eta 0:00:02\n",
      "   ---------- ----------------------------- 0.5/2.0 MB 827.5 kB/s eta 0:00:02\n",
      "   ----------- ---------------------------- 0.6/2.0 MB 894.6 kB/s eta 0:00:02\n",
      "   ------------- -------------------------- 0.7/2.0 MB 983.8 kB/s eta 0:00:02\n",
      "   --------------- ------------------------ 0.8/2.0 MB 1.0 MB/s eta 0:00:02\n",
      "   ---------------- ----------------------- 0.8/2.0 MB 1.1 MB/s eta 0:00:02\n",
      "   ------------------- -------------------- 1.0/2.0 MB 1.2 MB/s eta 0:00:01\n",
      "   -------------------- ------------------- 1.0/2.0 MB 1.2 MB/s eta 0:00:01\n",
      "   -------------------- ------------------- 1.0/2.0 MB 1.2 MB/s eta 0:00:01\n",
      "   ----------------------- ---------------- 1.1/2.0 MB 1.3 MB/s eta 0:00:01\n",
      "   ------------------------- -------------- 1.2/2.0 MB 1.3 MB/s eta 0:00:01\n",
      "   -------------------------- ------------- 1.3/2.0 MB 1.3 MB/s eta 0:00:01\n",
      "   ---------------------------- ----------- 1.4/2.0 MB 1.3 MB/s eta 0:00:01\n",
      "   ----------------------------- ---------- 1.5/2.0 MB 1.4 MB/s eta 0:00:01\n",
      "   ------------------------------- -------- 1.5/2.0 MB 1.4 MB/s eta 0:00:01\n",
      "   -------------------------------- ------- 1.6/2.0 MB 1.4 MB/s eta 0:00:01\n",
      "   ---------------------------------- ----- 1.7/2.0 MB 1.4 MB/s eta 0:00:01\n",
      "   ----------------------------------- ---- 1.8/2.0 MB 1.4 MB/s eta 0:00:01\n",
      "   ------------------------------------- -- 1.9/2.0 MB 1.5 MB/s eta 0:00:01\n",
      "   -------------------------------------- - 1.9/2.0 MB 1.5 MB/s eta 0:00:01\n",
      "   ---------------------------------------  2.0/2.0 MB 1.4 MB/s eta 0:00:01\n",
      "   ---------------------------------------- 2.0/2.0 MB 1.4 MB/s eta 0:00:00\n",
      "Downloading toolz-0.12.1-py3-none-any.whl (56 kB)\n",
      "   ---------------------------------------- 0.0/56.1 kB ? eta -:--:--\n",
      "   ---------------------------------------- 56.1/56.1 kB 1.5 MB/s eta 0:00:00\n",
      "Installing collected packages: toolz, pyphen, jellyfish, floret, cachetools, cytoolz, textacy\n",
      "Successfully installed cachetools-5.3.2 cytoolz-0.12.3 floret-0.10.5 jellyfish-1.0.3 pyphen-0.14.0 textacy-0.13.0 toolz-0.12.1\n"
     ]
    }
   ],
   "source": [
    "! pip install textacy"
   ]
  },
  {
   "cell_type": "code",
   "execution_count": 8,
   "metadata": {
    "execution": {
     "iopub.execute_input": "2024-01-05T15:47:17.082375Z",
     "iopub.status.busy": "2024-01-05T15:47:17.081989Z",
     "iopub.status.idle": "2024-01-05T15:47:23.732896Z",
     "shell.execute_reply": "2024-01-05T15:47:23.731966Z",
     "shell.execute_reply.started": "2024-01-05T15:47:17.082340Z"
    }
   },
   "outputs": [
    {
     "name": "stderr",
     "output_type": "stream",
     "text": [
      "C:\\Users\\Acer\\AppData\\Local\\Temp\\ipykernel_17616\\476360177.py:4: TqdmWarning: IProgress not found. Please update jupyter and ipywidgets. See https://ipywidgets.readthedocs.io/en/stable/user_install.html\n",
      "  from tqdm.autonotebook import tqdm\n"
     ]
    }
   ],
   "source": [
    "from textacy import preprocessing as tprep\n",
    "from spacy.lang.en.stop_words import STOP_WORDS\n",
    "import re\n",
    "from tqdm.autonotebook import tqdm\n",
    "\n",
    "tqdm.pandas()\n",
    "\n",
    "process = tprep.make_pipeline(\n",
    "    tprep.replace.emails,\n",
    "    tprep.replace.emojis,\n",
    "    tprep.replace.urls,\n",
    "    tprep.replace.phone_numbers,\n",
    "    tprep.replace.hashtags,\n",
    "    tprep.replace.currency_symbols,\n",
    "    lambda text: re.sub(r\"\\n\", \" \", text),\n",
    "    tprep.remove.html_tags,\n",
    "    tprep.remove.brackets,\n",
    "    # tprep.remove.punctuation,\n",
    "    tprep.normalize.hyphenated_words,\n",
    "    tprep.normalize.quotation_marks,\n",
    "    tprep.normalize.unicode,\n",
    "    tprep.normalize.bullet_points,\n",
    "    tprep.normalize.whitespace,\n",
    ")"
   ]
  },
  {
   "cell_type": "code",
   "execution_count": 9,
   "metadata": {
    "execution": {
     "iopub.execute_input": "2024-01-05T15:48:11.341029Z",
     "iopub.status.busy": "2024-01-05T15:48:11.340445Z",
     "iopub.status.idle": "2024-01-05T15:48:35.033783Z",
     "shell.execute_reply": "2024-01-05T15:48:35.032389Z",
     "shell.execute_reply.started": "2024-01-05T15:48:11.340975Z"
    }
   },
   "outputs": [
    {
     "name": "stderr",
     "output_type": "stream",
     "text": [
      "  0%|          | 0/2871 [00:00<?, ?it/s]"
     ]
    },
    {
     "name": "stderr",
     "output_type": "stream",
     "text": [
      "100%|██████████| 2871/2871 [00:07<00:00, 401.11it/s]\n",
      "100%|██████████| 2871/2871 [00:00<00:00, 4981.61it/s]\n",
      "100%|██████████| 1149/1149 [00:03<00:00, 376.89it/s]\n",
      "100%|██████████| 1149/1149 [00:00<00:00, 5374.64it/s]\n"
     ]
    }
   ],
   "source": [
    "def sample_df(df, frac=0.1):\n",
    "    return df.sample(frac=frac, random_state=42).reset_index(drop=True)\n",
    "\n",
    "def preprocess(df):\n",
    "    df.article = df.article.progress_apply(process)\n",
    "    df.highlights = df.highlights.progress_apply(process)\n",
    "    return df\n",
    "\n",
    "ds = sample_df(df_train, 0.01)\n",
    "ds = preprocess(ds)\n",
    "\n",
    "ds_test = sample_df(df_test, 0.1)\n",
    "ds_test = preprocess(ds_test)"
   ]
  },
  {
   "cell_type": "markdown",
   "metadata": {},
   "source": [
    "## Summarizing Text Using Topic Representation\n",
    "\n",
    "The simplest approach would be to identify important sentences based on an aggregate of the TF-IDF values of the words in that sentence. We will apply the TF-IDF vectorization and then aggregate the values to a sentence level. We can generate a score for each sentence as a sum of the TF-IDF values for each word in that sentence. This would mean that a sentence with a high score contains many important words as compared to other sentences in the article"
   ]
  },
  {
   "cell_type": "code",
   "execution_count": 10,
   "metadata": {
    "execution": {
     "iopub.execute_input": "2024-01-05T15:48:40.268741Z",
     "iopub.status.busy": "2024-01-05T15:48:40.267491Z",
     "iopub.status.idle": "2024-01-05T15:48:40.278239Z",
     "shell.execute_reply": "2024-01-05T15:48:40.276947Z",
     "shell.execute_reply.started": "2024-01-05T15:48:40.268687Z"
    }
   },
   "outputs": [
    {
     "data": {
      "text/plain": [
       "\"By . Mia De Graaf . Britons flocked to beaches across the southern coast yesterday as millions look set to bask in glorious sunshine today. Temperatures soared to 17C in Brighton and Dorset, with people starting their long weekend in deck chairs by the sea. Figures from Asda suggest the unexpected sunshine has also inspired a wave of impromptu barbecues, with sales of sausages and equipment expected to triple those in April. Sun's out: Brighton beach was packed with Britons enjoying the unexpected sunshine to start the long weekend as temperatures hit 17C across the south coast . Although frost is set to hit the south tonight - with temperatures dropping to 1C - Britons stocking up for a barbecue will be in luck tomorrow, with forecasters predicting dry and sunny weather across southern England, southern Wales and the south Midlands. In Weymouth, Dorset, the sun came out in time for the town's annual kite festival, held on the beach. But the good weather has not been enjoyed by all as heavy rain poured down across the north west. Unfortunately, the dark clouds and intermittent rain across northern England and Scotland is set to last throughout the long weekend and into Tuesday. However, the north east enjoyed a bright spell at midday today with sun shining in Harrogate and York ahead of the rainy weekend. Met Office spokesman Helen Roberts told MailOnline: 'It hasn't been great for the whole country - it's been a story of two halves. Crowds took to deckchairs to see in the Bank Holiday weekend on Brighton beach - while rain and clouds swept the country up north . Frost and temperatures of 1C are forecast to hit southern England tonight, but those planning a barbecue can bank on a dry, sunny day tomorrow . According to the Met Office, today's temperatures in Brighton were not unusual for this time of year, but it follows a windy and wet spell . 'The best of the sunshine has been . towards to south and south east, and further north there's been a lot of . cloud and outbreaks of rain. Tomorrow will be a similar picture. 'These temperatures are about . average for this time of the year. We might see 17C tomorrow but not . much higher. 'The most unusual thing is overnight minimum temperatures, which are really going to be quite low. We're looking at a touch of air frost tonight in places in the south, where there will be clear skies. That's not common for May.' Tonight, cloud and drizzle . is expected to cast over northern and western areas of the country, with . heavier bursts of rain in Scotland. Summer time: Many took to the sun wearing bikinis and sarongs for the first weekend as Britons gear themselves up for summer . Activity: The sun came out in time for the opening day of Weymouth Kite Festival, which sees people from all over come to show off creative kites . Three day forecast: Tomorrow sunny spells and warm weather is set to cover southern England, but the heavy rain up north is set to stay . Southern and eastern England looks set to remain dry,clear, and mild, despite cold temperatures in East Anglia. The intermittent rain and cloud currently sweeping across the north is set to last throughout Sunday, Monday and Tuesday. Cloud . and rain will spread into northern and western parts of the country on . Bank Holiday Monday, with heavy rain in the evening. Apart from a few showers, southern and central parts of England should be largely dry with some warm sunshine breaking through. Though rain poured down in the north west, the north east enjoyed a bright spell at midday today with sun shining in Harrogate ahead of the rainy weekend . Walkers took to Harrogate's parks as the sun came out for a short time in the town but cloud is predicted for tomorrow .\""
      ]
     },
     "execution_count": 10,
     "metadata": {},
     "output_type": "execute_result"
    }
   ],
   "source": [
    "article0, highlights0 = ds.loc[0, 'article'], ds.loc[0, 'highlights']\n",
    "article0"
   ]
  },
  {
   "cell_type": "code",
   "execution_count": 11,
   "metadata": {
    "execution": {
     "iopub.execute_input": "2024-01-05T15:48:40.692072Z",
     "iopub.status.busy": "2024-01-05T15:48:40.691639Z",
     "iopub.status.idle": "2024-01-05T15:48:40.700860Z",
     "shell.execute_reply": "2024-01-05T15:48:40.699474Z",
     "shell.execute_reply.started": "2024-01-05T15:48:40.692039Z"
    }
   },
   "outputs": [
    {
     "data": {
      "text/plain": [
       "'People enjoyed temperatures of 17C at Brighton beach in West Sussex and Weymouth in Dorset . Asda claims it will sell a million sausages over long weekend despite night temperatures dropping to minus 1C . But the good weather has not been enjoyed by all as the north west and Scotland have seen heavy rain .'"
      ]
     },
     "execution_count": 11,
     "metadata": {},
     "output_type": "execute_result"
    }
   ],
   "source": [
    "highlights0"
   ]
  },
  {
   "cell_type": "code",
   "execution_count": 12,
   "metadata": {
    "execution": {
     "iopub.execute_input": "2024-01-05T15:48:45.240718Z",
     "iopub.status.busy": "2024-01-05T15:48:45.240303Z",
     "iopub.status.idle": "2024-01-05T15:48:45.887578Z",
     "shell.execute_reply": "2024-01-05T15:48:45.886502Z",
     "shell.execute_reply.started": "2024-01-05T15:48:45.240685Z"
    }
   },
   "outputs": [],
   "source": [
    "from sklearn.feature_extraction.text import TfidfVectorizer\n",
    "from nltk import tokenize\n",
    "\n",
    "\n",
    "def tfidf_summary(text, num_summary_sentence):\n",
    "    summary_sentence = []\n",
    "    sentences = tokenize.sent_tokenize(text)\n",
    "    \n",
    "    tfidf = TfidfVectorizer()\n",
    "    words_tfidf = tfidf.fit_transform(sentences)\n",
    "    \n",
    "    # Sort the sentences in descending order by the sum of TF-IDF values\n",
    "    sentence_sum = words_tfidf.sum(axis=1)\n",
    "    important_sentences = np.argsort(sentence_sum, axis=0)[::-1]\n",
    "    \n",
    "    for i in range(0, len(sentences)):\n",
    "        if i in important_sentences[:num_summary_sentence]:\n",
    "            summary_sentence.append(sentences[i])\n",
    "    return summary_sentence"
   ]
  },
  {
   "cell_type": "code",
   "execution_count": 13,
   "metadata": {
    "execution": {
     "iopub.execute_input": "2024-01-05T15:48:45.892408Z",
     "iopub.status.busy": "2024-01-05T15:48:45.889231Z",
     "iopub.status.idle": "2024-01-05T15:48:45.940758Z",
     "shell.execute_reply": "2024-01-05T15:48:45.939496Z",
     "shell.execute_reply.started": "2024-01-05T15:48:45.892353Z"
    }
   },
   "outputs": [
    {
     "data": {
      "text/plain": [
       "['Figures from Asda suggest the unexpected sunshine has also inspired a wave of impromptu barbecues, with sales of sausages and equipment expected to triple those in April.',\n",
       " 'Although frost is set to hit the south tonight - with temperatures dropping to 1C - Britons stocking up for a barbecue will be in luck tomorrow, with forecasters predicting dry and sunny weather across southern England, southern Wales and the south Midlands.',\n",
       " 'Activity: The sun came out in time for the opening day of Weymouth Kite Festival, which sees people from all over come to show off creative kites .']"
      ]
     },
     "execution_count": 13,
     "metadata": {},
     "output_type": "execute_result"
    }
   ],
   "source": [
    "tfidf_summary(article0, 3)"
   ]
  },
  {
   "cell_type": "markdown",
   "metadata": {},
   "source": [
    "Some information about the temperature is in the top 3. For a simple not bad, although we just stick to actual sentences in the whole article, this method won't work for all cases but it's fast to get started."
   ]
  },
  {
   "cell_type": "markdown",
   "metadata": {},
   "source": [
    "## LSA Algorithm\n",
    "\n",
    "One of the modern methods used in extractive-based summarization is latent semantic analysis (LSA). LSA is a general-purpose method that is used for topic modeling, document similarity, and other tasks. LSA assumes that words that are close in meaning will occur in the same documents. In the LSA algorithm, we first represent the entire article in the form of a sentence-term matrix.\n",
    "\n",
    "We will be using sumy package for this but gensim also provide LsiModel which can be used as well"
   ]
  },
  {
   "cell_type": "code",
   "execution_count": 14,
   "metadata": {
    "execution": {
     "iopub.execute_input": "2024-01-05T15:48:49.927427Z",
     "iopub.status.busy": "2024-01-05T15:48:49.926956Z",
     "iopub.status.idle": "2024-01-05T15:49:06.146816Z",
     "shell.execute_reply": "2024-01-05T15:49:06.145162Z",
     "shell.execute_reply.started": "2024-01-05T15:48:49.927391Z"
    }
   },
   "outputs": [
    {
     "name": "stdout",
     "output_type": "stream",
     "text": [
      "Collecting sumy\n",
      "  Downloading sumy-0.11.0-py2.py3-none-any.whl.metadata (7.5 kB)\n",
      "Collecting docopt<0.7,>=0.6.1 (from sumy)\n",
      "  Downloading docopt-0.6.2.tar.gz (25 kB)\n",
      "  Installing build dependencies: started\n",
      "  Installing build dependencies: finished with status 'done'\n",
      "  Getting requirements to build wheel: started\n",
      "  Getting requirements to build wheel: finished with status 'done'\n",
      "  Installing backend dependencies: started\n",
      "  Installing backend dependencies: finished with status 'done'\n",
      "  Preparing metadata (pyproject.toml): started\n",
      "  Preparing metadata (pyproject.toml): finished with status 'done'\n",
      "Collecting breadability>=0.1.20 (from sumy)\n",
      "  Downloading breadability-0.1.20.tar.gz (32 kB)\n",
      "  Installing build dependencies: started\n",
      "  Installing build dependencies: finished with status 'done'\n",
      "  Getting requirements to build wheel: started\n",
      "  Getting requirements to build wheel: finished with status 'done'\n",
      "  Installing backend dependencies: started\n",
      "  Installing backend dependencies: finished with status 'done'\n",
      "  Preparing metadata (pyproject.toml): started\n",
      "  Preparing metadata (pyproject.toml): finished with status 'done'\n",
      "Requirement already satisfied: requests>=2.7.0 in c:\\users\\acer\\appdata\\local\\packages\\pythonsoftwarefoundation.python.3.11_qbz5n2kfra8p0\\localcache\\local-packages\\python311\\site-packages (from sumy) (2.31.0)\n",
      "Collecting pycountry>=18.2.23 (from sumy)\n",
      "  Downloading pycountry-23.12.11-py3-none-any.whl.metadata (12 kB)\n",
      "Requirement already satisfied: nltk>=3.0.2 in c:\\users\\acer\\appdata\\local\\packages\\pythonsoftwarefoundation.python.3.11_qbz5n2kfra8p0\\localcache\\local-packages\\python311\\site-packages (from sumy) (3.8.1)\n",
      "Requirement already satisfied: chardet in c:\\users\\acer\\appdata\\local\\packages\\pythonsoftwarefoundation.python.3.11_qbz5n2kfra8p0\\localcache\\local-packages\\python311\\site-packages (from breadability>=0.1.20->sumy) (3.0.4)\n",
      "Requirement already satisfied: lxml>=2.0 in c:\\users\\acer\\appdata\\local\\packages\\pythonsoftwarefoundation.python.3.11_qbz5n2kfra8p0\\localcache\\local-packages\\python311\\site-packages (from breadability>=0.1.20->sumy) (5.1.0)\n",
      "Requirement already satisfied: click in c:\\users\\acer\\appdata\\local\\packages\\pythonsoftwarefoundation.python.3.11_qbz5n2kfra8p0\\localcache\\local-packages\\python311\\site-packages (from nltk>=3.0.2->sumy) (8.1.7)\n",
      "Requirement already satisfied: joblib in c:\\users\\acer\\appdata\\local\\packages\\pythonsoftwarefoundation.python.3.11_qbz5n2kfra8p0\\localcache\\local-packages\\python311\\site-packages (from nltk>=3.0.2->sumy) (1.3.2)\n",
      "Requirement already satisfied: regex>=2021.8.3 in c:\\users\\acer\\appdata\\local\\packages\\pythonsoftwarefoundation.python.3.11_qbz5n2kfra8p0\\localcache\\local-packages\\python311\\site-packages (from nltk>=3.0.2->sumy) (2023.12.25)\n",
      "Requirement already satisfied: tqdm in c:\\users\\acer\\appdata\\local\\packages\\pythonsoftwarefoundation.python.3.11_qbz5n2kfra8p0\\localcache\\local-packages\\python311\\site-packages (from nltk>=3.0.2->sumy) (4.66.1)\n",
      "Requirement already satisfied: charset-normalizer<4,>=2 in c:\\users\\acer\\appdata\\local\\packages\\pythonsoftwarefoundation.python.3.11_qbz5n2kfra8p0\\localcache\\local-packages\\python311\\site-packages (from requests>=2.7.0->sumy) (3.3.2)\n",
      "Requirement already satisfied: idna<4,>=2.5 in c:\\users\\acer\\appdata\\local\\packages\\pythonsoftwarefoundation.python.3.11_qbz5n2kfra8p0\\localcache\\local-packages\\python311\\site-packages (from requests>=2.7.0->sumy) (2.10)\n",
      "Requirement already satisfied: urllib3<3,>=1.21.1 in c:\\users\\acer\\appdata\\local\\packages\\pythonsoftwarefoundation.python.3.11_qbz5n2kfra8p0\\localcache\\local-packages\\python311\\site-packages (from requests>=2.7.0->sumy) (2.1.0)\n",
      "Requirement already satisfied: certifi>=2017.4.17 in c:\\users\\acer\\appdata\\local\\packages\\pythonsoftwarefoundation.python.3.11_qbz5n2kfra8p0\\localcache\\local-packages\\python311\\site-packages (from requests>=2.7.0->sumy) (2023.11.17)\n",
      "Requirement already satisfied: colorama in c:\\users\\acer\\appdata\\local\\packages\\pythonsoftwarefoundation.python.3.11_qbz5n2kfra8p0\\localcache\\local-packages\\python311\\site-packages (from click->nltk>=3.0.2->sumy) (0.4.6)\n",
      "Downloading sumy-0.11.0-py2.py3-none-any.whl (97 kB)\n",
      "   ---------------------------------------- 0.0/97.3 kB ? eta -:--:--\n",
      "   ---------------- ----------------------- 41.0/97.3 kB 991.0 kB/s eta 0:00:01\n",
      "   ------------------------- -------------- 61.4/97.3 kB 1.7 MB/s eta 0:00:01\n",
      "   ------------------------- -------------- 61.4/97.3 kB 1.7 MB/s eta 0:00:01\n",
      "   ------------------------- -------------- 61.4/97.3 kB 1.7 MB/s eta 0:00:01\n",
      "   ------------------------- -------------- 61.4/97.3 kB 1.7 MB/s eta 0:00:01\n",
      "   ------------------------- -------------- 61.4/97.3 kB 1.7 MB/s eta 0:00:01\n",
      "   --------------------------------- ------ 81.9/97.3 kB 270.5 kB/s eta 0:00:01\n",
      "   --------------------------------- ------ 81.9/97.3 kB 270.5 kB/s eta 0:00:01\n",
      "   --------------------------------- ------ 81.9/97.3 kB 270.5 kB/s eta 0:00:01\n",
      "   --------------------------------- ------ 81.9/97.3 kB 270.5 kB/s eta 0:00:01\n",
      "   ---------------------------------------- 97.3/97.3 kB 206.9 kB/s eta 0:00:00\n",
      "Downloading pycountry-23.12.11-py3-none-any.whl (6.2 MB)\n",
      "   ---------------------------------------- 0.0/6.2 MB ? eta -:--:--\n",
      "   ---------------------------------------- 0.1/6.2 MB 3.2 MB/s eta 0:00:02\n",
      "    --------------------------------------- 0.1/6.2 MB 2.2 MB/s eta 0:00:03\n",
      "   - -------------------------------------- 0.2/6.2 MB 1.7 MB/s eta 0:00:04\n",
      "   - -------------------------------------- 0.3/6.2 MB 1.8 MB/s eta 0:00:04\n",
      "   - -------------------------------------- 0.3/6.2 MB 1.6 MB/s eta 0:00:04\n",
      "   -- ------------------------------------- 0.4/6.2 MB 1.8 MB/s eta 0:00:04\n",
      "   -- ------------------------------------- 0.5/6.2 MB 1.8 MB/s eta 0:00:04\n",
      "   --- ------------------------------------ 0.5/6.2 MB 1.7 MB/s eta 0:00:04\n",
      "   --- ------------------------------------ 0.6/6.2 MB 1.7 MB/s eta 0:00:04\n",
      "   --- ------------------------------------ 0.6/6.2 MB 1.5 MB/s eta 0:00:04\n",
      "   ---- ----------------------------------- 0.7/6.2 MB 1.6 MB/s eta 0:00:04\n",
      "   ---- ----------------------------------- 0.7/6.2 MB 1.5 MB/s eta 0:00:04\n",
      "   ----- ---------------------------------- 0.8/6.2 MB 1.6 MB/s eta 0:00:04\n",
      "   ----- ---------------------------------- 0.9/6.2 MB 1.6 MB/s eta 0:00:04\n",
      "   ----- ---------------------------------- 0.9/6.2 MB 1.5 MB/s eta 0:00:04\n",
      "   ----- ---------------------------------- 0.9/6.2 MB 1.5 MB/s eta 0:00:04\n",
      "   ----- ---------------------------------- 0.9/6.2 MB 1.5 MB/s eta 0:00:04\n",
      "   ------ --------------------------------- 1.0/6.2 MB 1.5 MB/s eta 0:00:04\n",
      "   ------ --------------------------------- 1.0/6.2 MB 1.5 MB/s eta 0:00:04\n",
      "   ------ --------------------------------- 1.1/6.2 MB 1.4 MB/s eta 0:00:04\n",
      "   ------- -------------------------------- 1.1/6.2 MB 1.4 MB/s eta 0:00:04\n",
      "   ------- -------------------------------- 1.2/6.2 MB 1.4 MB/s eta 0:00:04\n",
      "   ------- -------------------------------- 1.2/6.2 MB 1.3 MB/s eta 0:00:04\n",
      "   ------- -------------------------------- 1.2/6.2 MB 1.3 MB/s eta 0:00:04\n",
      "   ------- -------------------------------- 1.2/6.2 MB 1.2 MB/s eta 0:00:05\n",
      "   -------- ------------------------------- 1.3/6.2 MB 1.3 MB/s eta 0:00:04\n",
      "   -------- ------------------------------- 1.3/6.2 MB 1.3 MB/s eta 0:00:04\n",
      "   -------- ------------------------------- 1.3/6.2 MB 1.2 MB/s eta 0:00:04\n",
      "   -------- ------------------------------- 1.4/6.2 MB 1.2 MB/s eta 0:00:05\n",
      "   -------- ------------------------------- 1.4/6.2 MB 1.2 MB/s eta 0:00:05\n",
      "   --------- ------------------------------ 1.4/6.2 MB 1.2 MB/s eta 0:00:05\n",
      "   --------- ------------------------------ 1.4/6.2 MB 1.2 MB/s eta 0:00:05\n",
      "   --------- ------------------------------ 1.4/6.2 MB 1.1 MB/s eta 0:00:05\n",
      "   --------- ------------------------------ 1.5/6.2 MB 1.1 MB/s eta 0:00:05\n",
      "   --------- ------------------------------ 1.5/6.2 MB 1.1 MB/s eta 0:00:05\n",
      "   --------- ------------------------------ 1.5/6.2 MB 1.1 MB/s eta 0:00:05\n",
      "   ---------- ----------------------------- 1.6/6.2 MB 1.1 MB/s eta 0:00:05\n",
      "   ---------- ----------------------------- 1.6/6.2 MB 1.1 MB/s eta 0:00:05\n",
      "   ---------- ----------------------------- 1.6/6.2 MB 1.1 MB/s eta 0:00:05\n",
      "   ---------- ----------------------------- 1.7/6.2 MB 1.1 MB/s eta 0:00:05\n",
      "   ---------- ----------------------------- 1.7/6.2 MB 1.1 MB/s eta 0:00:05\n",
      "   ----------- ---------------------------- 1.7/6.2 MB 1.1 MB/s eta 0:00:05\n",
      "   ----------- ---------------------------- 1.8/6.2 MB 1.1 MB/s eta 0:00:05\n",
      "   ----------- ---------------------------- 1.8/6.2 MB 1.0 MB/s eta 0:00:05\n",
      "   ----------- ---------------------------- 1.8/6.2 MB 1.0 MB/s eta 0:00:05\n",
      "   ----------- ---------------------------- 1.8/6.2 MB 1.0 MB/s eta 0:00:05\n",
      "   ----------- ---------------------------- 1.9/6.2 MB 1.0 MB/s eta 0:00:05\n",
      "   ------------ --------------------------- 1.9/6.2 MB 1.0 MB/s eta 0:00:05\n",
      "   ------------ --------------------------- 1.9/6.2 MB 1.0 MB/s eta 0:00:05\n",
      "   ------------ --------------------------- 2.0/6.2 MB 1.0 MB/s eta 0:00:05\n",
      "   ------------ --------------------------- 2.0/6.2 MB 990.5 kB/s eta 0:00:05\n",
      "   ------------- -------------------------- 2.0/6.2 MB 993.2 kB/s eta 0:00:05\n",
      "   ------------- -------------------------- 2.0/6.2 MB 982.8 kB/s eta 0:00:05\n",
      "   ------------- -------------------------- 2.1/6.2 MB 980.3 kB/s eta 0:00:05\n",
      "   ------------- -------------------------- 2.1/6.2 MB 980.5 kB/s eta 0:00:05\n",
      "   ------------- -------------------------- 2.1/6.2 MB 980.6 kB/s eta 0:00:05\n",
      "   ------------- -------------------------- 2.2/6.2 MB 973.7 kB/s eta 0:00:05\n",
      "   -------------- ------------------------- 2.2/6.2 MB 969.4 kB/s eta 0:00:05\n",
      "   -------------- ------------------------- 2.2/6.2 MB 971.8 kB/s eta 0:00:05\n",
      "   -------------- ------------------------- 2.3/6.2 MB 965.5 kB/s eta 0:00:05\n",
      "   -------------- ------------------------- 2.3/6.2 MB 967.9 kB/s eta 0:00:05\n",
      "   --------------- ------------------------ 2.4/6.2 MB 968.2 kB/s eta 0:00:04\n",
      "   --------------- ------------------------ 2.4/6.2 MB 960.1 kB/s eta 0:00:05\n",
      "   --------------- ------------------------ 2.4/6.2 MB 958.5 kB/s eta 0:00:04\n",
      "   --------------- ------------------------ 2.4/6.2 MB 956.4 kB/s eta 0:00:04\n",
      "   --------------- ------------------------ 2.5/6.2 MB 947.4 kB/s eta 0:00:04\n",
      "   ---------------- ----------------------- 2.5/6.2 MB 949.5 kB/s eta 0:00:04\n",
      "   ---------------- ----------------------- 2.5/6.2 MB 942.2 kB/s eta 0:00:04\n",
      "   ---------------- ----------------------- 2.5/6.2 MB 933.3 kB/s eta 0:00:04\n",
      "   ---------------- ----------------------- 2.5/6.2 MB 928.5 kB/s eta 0:00:04\n",
      "   ---------------- ----------------------- 2.6/6.2 MB 924.2 kB/s eta 0:00:04\n",
      "   ---------------- ----------------------- 2.6/6.2 MB 924.2 kB/s eta 0:00:04\n",
      "   ---------------- ----------------------- 2.6/6.2 MB 924.2 kB/s eta 0:00:04\n",
      "   ---------------- ----------------------- 2.6/6.2 MB 924.2 kB/s eta 0:00:04\n",
      "   ---------------- ----------------------- 2.6/6.2 MB 924.2 kB/s eta 0:00:04\n",
      "   ---------------- ----------------------- 2.6/6.2 MB 924.2 kB/s eta 0:00:04\n",
      "   ---------------- ----------------------- 2.6/6.2 MB 924.2 kB/s eta 0:00:04\n",
      "   ----------------- ---------------------- 2.7/6.2 MB 869.2 kB/s eta 0:00:05\n",
      "   ----------------- ---------------------- 2.7/6.2 MB 869.2 kB/s eta 0:00:05\n",
      "   ----------------- ---------------------- 2.7/6.2 MB 862.7 kB/s eta 0:00:05\n",
      "   ----------------- ---------------------- 2.7/6.2 MB 849.0 kB/s eta 0:00:05\n",
      "   ----------------- ---------------------- 2.7/6.2 MB 843.0 kB/s eta 0:00:05\n",
      "   ----------------- ---------------------- 2.7/6.2 MB 838.1 kB/s eta 0:00:05\n",
      "   ----------------- ---------------------- 2.8/6.2 MB 832.4 kB/s eta 0:00:05\n",
      "   ----------------- ---------------------- 2.8/6.2 MB 832.4 kB/s eta 0:00:05\n",
      "   ----------------- ---------------------- 2.8/6.2 MB 832.4 kB/s eta 0:00:05\n",
      "   ----------------- ---------------------- 2.8/6.2 MB 805.0 kB/s eta 0:00:05\n",
      "   ----------------- ---------------------- 2.8/6.2 MB 807.9 kB/s eta 0:00:05\n",
      "   ------------------ --------------------- 2.8/6.2 MB 798.7 kB/s eta 0:00:05\n",
      "   ------------------ --------------------- 2.8/6.2 MB 798.7 kB/s eta 0:00:05\n",
      "   ------------------ --------------------- 2.8/6.2 MB 789.9 kB/s eta 0:00:05\n",
      "   ------------------ --------------------- 2.8/6.2 MB 789.9 kB/s eta 0:00:05\n",
      "   ------------------ --------------------- 2.9/6.2 MB 784.7 kB/s eta 0:00:05\n",
      "   ------------------ --------------------- 2.9/6.2 MB 780.2 kB/s eta 0:00:05\n",
      "   ------------------ --------------------- 2.9/6.2 MB 780.2 kB/s eta 0:00:05\n",
      "   ------------------ --------------------- 2.9/6.2 MB 769.2 kB/s eta 0:00:05\n",
      "   ------------------ --------------------- 2.9/6.2 MB 767.7 kB/s eta 0:00:05\n",
      "   ------------------ --------------------- 2.9/6.2 MB 767.7 kB/s eta 0:00:05\n",
      "   ------------------- -------------------- 3.0/6.2 MB 760.6 kB/s eta 0:00:05\n",
      "   ------------------- -------------------- 3.0/6.2 MB 756.4 kB/s eta 0:00:05\n",
      "   ------------------- -------------------- 3.0/6.2 MB 755.5 kB/s eta 0:00:05\n",
      "   ------------------- -------------------- 3.0/6.2 MB 755.2 kB/s eta 0:00:05\n",
      "   ------------------- -------------------- 3.1/6.2 MB 756.1 kB/s eta 0:00:05\n",
      "   ------------------- -------------------- 3.1/6.2 MB 755.4 kB/s eta 0:00:05\n",
      "   -------------------- ------------------- 3.1/6.2 MB 752.2 kB/s eta 0:00:05\n",
      "   -------------------- ------------------- 3.2/6.2 MB 753.5 kB/s eta 0:00:05\n",
      "   -------------------- ------------------- 3.2/6.2 MB 752.8 kB/s eta 0:00:05\n",
      "   -------------------- ------------------- 3.2/6.2 MB 752.8 kB/s eta 0:00:05\n",
      "   -------------------- ------------------- 3.2/6.2 MB 743.5 kB/s eta 0:00:05\n",
      "   -------------------- ------------------- 3.2/6.2 MB 742.5 kB/s eta 0:00:05\n",
      "   -------------------- ------------------- 3.2/6.2 MB 742.5 kB/s eta 0:00:05\n",
      "   -------------------- ------------------- 3.2/6.2 MB 742.5 kB/s eta 0:00:05\n",
      "   -------------------- ------------------- 3.2/6.2 MB 742.5 kB/s eta 0:00:05\n",
      "   -------------------- ------------------- 3.2/6.2 MB 742.5 kB/s eta 0:00:05\n",
      "   -------------------- ------------------- 3.2/6.2 MB 742.5 kB/s eta 0:00:05\n",
      "   -------------------- ------------------- 3.2/6.2 MB 742.5 kB/s eta 0:00:05\n",
      "   -------------------- ------------------- 3.2/6.2 MB 742.5 kB/s eta 0:00:05\n",
      "   -------------------- ------------------- 3.2/6.2 MB 742.5 kB/s eta 0:00:05\n",
      "   -------------------- ------------------- 3.2/6.2 MB 742.5 kB/s eta 0:00:05\n",
      "   -------------------- ------------------- 3.2/6.2 MB 742.5 kB/s eta 0:00:05\n",
      "   -------------------- ------------------- 3.2/6.2 MB 742.5 kB/s eta 0:00:05\n",
      "   -------------------- ------------------- 3.2/6.2 MB 742.5 kB/s eta 0:00:05\n",
      "   -------------------- ------------------- 3.3/6.2 MB 670.1 kB/s eta 0:00:05\n",
      "   --------------------- ------------------ 3.3/6.2 MB 667.9 kB/s eta 0:00:05\n",
      "   --------------------- ------------------ 3.3/6.2 MB 663.6 kB/s eta 0:00:05\n",
      "   --------------------- ------------------ 3.3/6.2 MB 659.5 kB/s eta 0:00:05\n",
      "   --------------------- ------------------ 3.3/6.2 MB 659.4 kB/s eta 0:00:05\n",
      "   --------------------- ------------------ 3.4/6.2 MB 663.4 kB/s eta 0:00:05\n",
      "   --------------------- ------------------ 3.4/6.2 MB 663.3 kB/s eta 0:00:05\n",
      "   ---------------------- ----------------- 3.4/6.2 MB 663.3 kB/s eta 0:00:05\n",
      "   ---------------------- ----------------- 3.5/6.2 MB 669.1 kB/s eta 0:00:05\n",
      "   ---------------------- ----------------- 3.5/6.2 MB 663.2 kB/s eta 0:00:05\n",
      "   ---------------------- ----------------- 3.5/6.2 MB 665.1 kB/s eta 0:00:05\n",
      "   ---------------------- ----------------- 3.5/6.2 MB 666.9 kB/s eta 0:00:05\n",
      "   ----------------------- ---------------- 3.6/6.2 MB 664.8 kB/s eta 0:00:04\n",
      "   ----------------------- ---------------- 3.6/6.2 MB 664.8 kB/s eta 0:00:04\n",
      "   ----------------------- ---------------- 3.6/6.2 MB 664.7 kB/s eta 0:00:04\n",
      "   ----------------------- ---------------- 3.7/6.2 MB 666.6 kB/s eta 0:00:04\n",
      "   ----------------------- ---------------- 3.7/6.2 MB 666.6 kB/s eta 0:00:04\n",
      "   ----------------------- ---------------- 3.7/6.2 MB 666.6 kB/s eta 0:00:04\n",
      "   ----------------------- ---------------- 3.7/6.2 MB 651.6 kB/s eta 0:00:04\n",
      "   ----------------------- ---------------- 3.7/6.2 MB 653.5 kB/s eta 0:00:04\n",
      "   ----------------------- ---------------- 3.7/6.2 MB 653.5 kB/s eta 0:00:04\n",
      "   ------------------------ --------------- 3.7/6.2 MB 653.6 kB/s eta 0:00:04\n",
      "   ------------------------ --------------- 3.8/6.2 MB 651.8 kB/s eta 0:00:04\n",
      "   ------------------------ --------------- 3.8/6.2 MB 657.1 kB/s eta 0:00:04\n",
      "   ------------------------ --------------- 3.9/6.2 MB 657.1 kB/s eta 0:00:04\n",
      "   ------------------------ --------------- 3.9/6.2 MB 657.0 kB/s eta 0:00:04\n",
      "   ------------------------- -------------- 3.9/6.2 MB 658.9 kB/s eta 0:00:04\n",
      "   ------------------------- -------------- 3.9/6.2 MB 657.0 kB/s eta 0:00:04\n",
      "   ------------------------- -------------- 3.9/6.2 MB 657.0 kB/s eta 0:00:04\n",
      "   ------------------------- -------------- 4.0/6.2 MB 658.7 kB/s eta 0:00:04\n",
      "   ------------------------- -------------- 4.0/6.2 MB 658.7 kB/s eta 0:00:04\n",
      "   -------------------------- ------------- 4.0/6.2 MB 660.3 kB/s eta 0:00:04\n",
      "   -------------------------- ------------- 4.1/6.2 MB 660.4 kB/s eta 0:00:04\n",
      "   -------------------------- ------------- 4.1/6.2 MB 660.3 kB/s eta 0:00:04\n",
      "   -------------------------- ------------- 4.1/6.2 MB 660.3 kB/s eta 0:00:04\n",
      "   -------------------------- ------------- 4.1/6.2 MB 660.3 kB/s eta 0:00:04\n",
      "   --------------------------- ------------ 4.2/6.2 MB 663.5 kB/s eta 0:00:04\n",
      "   --------------------------- ------------ 4.2/6.2 MB 663.5 kB/s eta 0:00:04\n",
      "   --------------------------- ------------ 4.2/6.2 MB 663.3 kB/s eta 0:00:03\n",
      "   --------------------------- ------------ 4.3/6.2 MB 660.1 kB/s eta 0:00:03\n",
      "   --------------------------- ------------ 4.3/6.2 MB 660.1 kB/s eta 0:00:03\n",
      "   --------------------------- ------------ 4.3/6.2 MB 655.4 kB/s eta 0:00:03\n",
      "   --------------------------- ------------ 4.3/6.2 MB 656.9 kB/s eta 0:00:03\n",
      "   --------------------------- ------------ 4.3/6.2 MB 653.8 kB/s eta 0:00:03\n",
      "   ---------------------------- ----------- 4.4/6.2 MB 655.4 kB/s eta 0:00:03\n",
      "   ---------------------------- ----------- 4.4/6.2 MB 653.8 kB/s eta 0:00:03\n",
      "   ---------------------------- ----------- 4.4/6.2 MB 653.8 kB/s eta 0:00:03\n",
      "   ---------------------------- ----------- 4.4/6.2 MB 655.4 kB/s eta 0:00:03\n",
      "   ---------------------------- ----------- 4.4/6.2 MB 655.4 kB/s eta 0:00:03\n",
      "   ---------------------------- ----------- 4.5/6.2 MB 653.9 kB/s eta 0:00:03\n",
      "   ---------------------------- ----------- 4.5/6.2 MB 653.8 kB/s eta 0:00:03\n",
      "   ----------------------------- ---------- 4.5/6.2 MB 655.4 kB/s eta 0:00:03\n",
      "   ----------------------------- ---------- 4.6/6.2 MB 655.3 kB/s eta 0:00:03\n",
      "   ----------------------------- ---------- 4.6/6.2 MB 655.3 kB/s eta 0:00:03\n",
      "   ----------------------------- ---------- 4.6/6.2 MB 655.4 kB/s eta 0:00:03\n",
      "   ----------------------------- ---------- 4.6/6.2 MB 655.4 kB/s eta 0:00:03\n",
      "   ------------------------------ --------- 4.7/6.2 MB 656.7 kB/s eta 0:00:03\n",
      "   ------------------------------ --------- 4.7/6.2 MB 656.8 kB/s eta 0:00:03\n",
      "   ------------------------------ --------- 4.8/6.2 MB 659.6 kB/s eta 0:00:03\n",
      "   ------------------------------ --------- 4.8/6.2 MB 659.5 kB/s eta 0:00:03\n",
      "   ------------------------------ --------- 4.8/6.2 MB 661.0 kB/s eta 0:00:03\n",
      "   ------------------------------ --------- 4.8/6.2 MB 661.0 kB/s eta 0:00:03\n",
      "   ------------------------------ --------- 4.8/6.2 MB 661.0 kB/s eta 0:00:03\n",
      "   ------------------------------- -------- 4.9/6.2 MB 660.9 kB/s eta 0:00:02\n",
      "   ------------------------------- -------- 4.9/6.2 MB 660.9 kB/s eta 0:00:02\n",
      "   ------------------------------- -------- 4.9/6.2 MB 660.8 kB/s eta 0:00:02\n",
      "   ------------------------------- -------- 5.0/6.2 MB 659.5 kB/s eta 0:00:02\n",
      "   -------------------------------- ------- 5.0/6.2 MB 658.0 kB/s eta 0:00:02\n",
      "   -------------------------------- ------- 5.0/6.2 MB 658.0 kB/s eta 0:00:02\n",
      "   -------------------------------- ------- 5.0/6.2 MB 656.7 kB/s eta 0:00:02\n",
      "   -------------------------------- ------- 5.1/6.2 MB 658.0 kB/s eta 0:00:02\n",
      "   -------------------------------- ------- 5.1/6.2 MB 658.0 kB/s eta 0:00:02\n",
      "   -------------------------------- ------- 5.1/6.2 MB 655.4 kB/s eta 0:00:02\n",
      "   -------------------------------- ------- 5.1/6.2 MB 655.3 kB/s eta 0:00:02\n",
      "   --------------------------------- ------ 5.1/6.2 MB 655.4 kB/s eta 0:00:02\n",
      "   --------------------------------- ------ 5.2/6.2 MB 655.4 kB/s eta 0:00:02\n",
      "   --------------------------------- ------ 5.2/6.2 MB 656.7 kB/s eta 0:00:02\n",
      "   --------------------------------- ------ 5.2/6.2 MB 654.1 kB/s eta 0:00:02\n",
      "   --------------------------------- ------ 5.3/6.2 MB 655.4 kB/s eta 0:00:02\n",
      "   --------------------------------- ------ 5.3/6.2 MB 654.1 kB/s eta 0:00:02\n",
      "   ---------------------------------- ----- 5.3/6.2 MB 654.1 kB/s eta 0:00:02\n",
      "   ---------------------------------- ----- 5.3/6.2 MB 655.4 kB/s eta 0:00:02\n",
      "   ---------------------------------- ----- 5.3/6.2 MB 652.8 kB/s eta 0:00:02\n",
      "   ---------------------------------- ----- 5.4/6.2 MB 654.1 kB/s eta 0:00:02\n",
      "   ---------------------------------- ----- 5.4/6.2 MB 652.9 kB/s eta 0:00:02\n",
      "   ---------------------------------- ----- 5.4/6.2 MB 652.9 kB/s eta 0:00:02\n",
      "   ----------------------------------- ---- 5.4/6.2 MB 654.1 kB/s eta 0:00:02\n",
      "   ----------------------------------- ---- 5.5/6.2 MB 651.7 kB/s eta 0:00:02\n",
      "   ----------------------------------- ---- 5.5/6.2 MB 651.7 kB/s eta 0:00:02\n",
      "   ----------------------------------- ---- 5.5/6.2 MB 650.5 kB/s eta 0:00:02\n",
      "   ----------------------------------- ---- 5.5/6.2 MB 650.5 kB/s eta 0:00:02\n",
      "   ----------------------------------- ---- 5.6/6.2 MB 649.4 kB/s eta 0:00:02\n",
      "   ----------------------------------- ---- 5.6/6.2 MB 649.4 kB/s eta 0:00:01\n",
      "   ----------------------------------- ---- 5.6/6.2 MB 649.4 kB/s eta 0:00:01\n",
      "   ------------------------------------ --- 5.6/6.2 MB 650.6 kB/s eta 0:00:01\n",
      "   ------------------------------------ --- 5.7/6.2 MB 650.6 kB/s eta 0:00:01\n",
      "   ------------------------------------ --- 5.7/6.2 MB 648.3 kB/s eta 0:00:01\n",
      "   ------------------------------------ --- 5.7/6.2 MB 650.7 kB/s eta 0:00:01\n",
      "   ------------------------------------ --- 5.7/6.2 MB 650.7 kB/s eta 0:00:01\n",
      "   ------------------------------------- -- 5.8/6.2 MB 650.7 kB/s eta 0:00:01\n",
      "   ------------------------------------- -- 5.8/6.2 MB 650.7 kB/s eta 0:00:01\n",
      "   ------------------------------------- -- 5.8/6.2 MB 650.8 kB/s eta 0:00:01\n",
      "   ------------------------------------- -- 5.8/6.2 MB 650.8 kB/s eta 0:00:01\n",
      "   ------------------------------------- -- 5.8/6.2 MB 650.8 kB/s eta 0:00:01\n",
      "   ------------------------------------- -- 5.9/6.2 MB 649.7 kB/s eta 0:00:01\n",
      "   ------------------------------------- -- 5.9/6.2 MB 648.5 kB/s eta 0:00:01\n",
      "   -------------------------------------- - 5.9/6.2 MB 646.4 kB/s eta 0:00:01\n",
      "   -------------------------------------- - 5.9/6.2 MB 645.3 kB/s eta 0:00:01\n",
      "   -------------------------------------- - 5.9/6.2 MB 645.3 kB/s eta 0:00:01\n",
      "   -------------------------------------- - 6.0/6.2 MB 644.2 kB/s eta 0:00:01\n",
      "   -------------------------------------- - 6.0/6.2 MB 645.4 kB/s eta 0:00:01\n",
      "   -------------------------------------- - 6.0/6.2 MB 643.2 kB/s eta 0:00:01\n",
      "   -------------------------------------- - 6.0/6.2 MB 643.3 kB/s eta 0:00:01\n",
      "   -------------------------------------- - 6.0/6.2 MB 643.3 kB/s eta 0:00:01\n",
      "   -------------------------------------- - 6.1/6.2 MB 641.2 kB/s eta 0:00:01\n",
      "   ---------------------------------------  6.1/6.2 MB 641.3 kB/s eta 0:00:01\n",
      "   ---------------------------------------  6.1/6.2 MB 641.3 kB/s eta 0:00:01\n",
      "   ---------------------------------------  6.1/6.2 MB 641.4 kB/s eta 0:00:01\n",
      "   ---------------------------------------  6.2/6.2 MB 640.4 kB/s eta 0:00:01\n",
      "   ---------------------------------------  6.2/6.2 MB 640.4 kB/s eta 0:00:01\n",
      "   ---------------------------------------  6.2/6.2 MB 640.5 kB/s eta 0:00:01\n",
      "   ---------------------------------------- 6.2/6.2 MB 639.4 kB/s eta 0:00:00\n",
      "Building wheels for collected packages: breadability, docopt\n",
      "  Building wheel for breadability (pyproject.toml): started\n",
      "  Building wheel for breadability (pyproject.toml): finished with status 'done'\n",
      "  Created wheel for breadability: filename=breadability-0.1.20-py2.py3-none-any.whl size=21738 sha256=c1d83d26e132bab86930e7bd095a92651777af77a2dadd8611d914ceb42af247\n",
      "  Stored in directory: c:\\users\\acer\\appdata\\local\\pip\\cache\\wheels\\4d\\57\\58\\7e3d7fedf51fe248b7fcee3df6945ae28638e22cddf01eb92b\n",
      "  Building wheel for docopt (pyproject.toml): started\n",
      "  Building wheel for docopt (pyproject.toml): finished with status 'done'\n",
      "  Created wheel for docopt: filename=docopt-0.6.2-py2.py3-none-any.whl size=13774 sha256=127640f05cac30ce4721eacf70a46849595267d3dc884fdb31408197806b8fc6\n",
      "  Stored in directory: c:\\users\\acer\\appdata\\local\\pip\\cache\\wheels\\1a\\b0\\8c\\4b75c4116c31f83c8f9f047231251e13cc74481cca4a78a9ce\n",
      "Successfully built breadability docopt\n",
      "Installing collected packages: docopt, pycountry, breadability, sumy\n",
      "Successfully installed breadability-0.1.20 docopt-0.6.2 pycountry-23.12.11 sumy-0.11.0\n"
     ]
    }
   ],
   "source": [
    "! pip install sumy"
   ]
  },
  {
   "cell_type": "code",
   "execution_count": 15,
   "metadata": {
    "execution": {
     "iopub.execute_input": "2024-01-05T15:49:06.151759Z",
     "iopub.status.busy": "2024-01-05T15:49:06.151168Z",
     "iopub.status.idle": "2024-01-05T15:49:06.206567Z",
     "shell.execute_reply": "2024-01-05T15:49:06.205299Z",
     "shell.execute_reply.started": "2024-01-05T15:49:06.151706Z"
    }
   },
   "outputs": [],
   "source": [
    "from sumy.parsers.plaintext import PlaintextParser\n",
    "from sumy.nlp.tokenizers import Tokenizer\n",
    "from sumy.nlp.stemmers import Stemmer\n",
    "from sumy.utils import get_stop_words\n",
    "from sumy.summarizers.lsa import LsaSummarizer\n",
    "\n",
    "\n",
    "def lsa_summary(text, num_summary_sentence, language='english'):\n",
    "    summary_sentence = []\n",
    "    \n",
    "    stemmer = Stemmer(language)\n",
    "    parser = PlaintextParser.from_string(text, Tokenizer(language))\n",
    "\n",
    "    summarizer = LsaSummarizer(stemmer)\n",
    "    summarizer.stop_words = STOP_WORDS    # get_stop_words(language)\n",
    "    \n",
    "    for sentence in summarizer(parser.document, num_summary_sentence):\n",
    "        summary_sentence.append(str(sentence))\n",
    "    return summary_sentence"
   ]
  },
  {
   "cell_type": "code",
   "execution_count": 16,
   "metadata": {
    "execution": {
     "iopub.execute_input": "2024-01-05T15:49:06.209166Z",
     "iopub.status.busy": "2024-01-05T15:49:06.208791Z",
     "iopub.status.idle": "2024-01-05T15:49:06.321405Z",
     "shell.execute_reply": "2024-01-05T15:49:06.320203Z",
     "shell.execute_reply.started": "2024-01-05T15:49:06.209135Z"
    }
   },
   "outputs": [
    {
     "data": {
      "text/plain": [
       "['Figures from Asda suggest the unexpected sunshine has also inspired a wave of impromptu barbecues, with sales of sausages and equipment expected to triple those in April.',\n",
       " \"Sun's out: Brighton beach was packed with Britons enjoying the unexpected sunshine to start the long weekend as temperatures hit 17C across the south coast .\",\n",
       " 'Frost and temperatures of 1C are forecast to hit southern England tonight, but those planning a barbecue can bank on a dry, sunny day tomorrow .']"
      ]
     },
     "execution_count": 16,
     "metadata": {},
     "output_type": "execute_result"
    }
   ],
   "source": [
    "lsa_summary(article0, 3)"
   ]
  },
  {
   "cell_type": "markdown",
   "metadata": {},
   "source": [
    "## Summarizing Text Using an Indicator Representation\n",
    "\n",
    "Indicator representation methods aim to create the intermediate representation of a sentence by using features of the sentence and its relationship to others in the document rather than using only the words in the sentence. TextRank is one of the most popular examples of an indicator-based method"
   ]
  },
  {
   "cell_type": "code",
   "execution_count": 17,
   "metadata": {
    "execution": {
     "iopub.execute_input": "2024-01-05T15:49:14.487380Z",
     "iopub.status.busy": "2024-01-05T15:49:14.486937Z",
     "iopub.status.idle": "2024-01-05T15:49:14.495963Z",
     "shell.execute_reply": "2024-01-05T15:49:14.494498Z",
     "shell.execute_reply.started": "2024-01-05T15:49:14.487341Z"
    }
   },
   "outputs": [],
   "source": [
    "from sumy.summarizers.text_rank import TextRankSummarizer\n",
    "\n",
    "\n",
    "def textrank_summary(text, num_summary_sentence, language='english'):\n",
    "    summary_sentence = []\n",
    "    \n",
    "    stemmer = Stemmer(language)\n",
    "    parser = PlaintextParser.from_string(text, Tokenizer(language))\n",
    "    \n",
    "    summarizer = TextRankSummarizer(stemmer)\n",
    "    summarizer.stop_words = STOP_WORDS    # get_stop_words(language)\n",
    "    \n",
    "    for sentence in summarizer(parser.document, num_summary_sentence):\n",
    "        summary_sentence.append(str(sentence))\n",
    "    return summary_sentence"
   ]
  },
  {
   "cell_type": "code",
   "execution_count": 18,
   "metadata": {
    "execution": {
     "iopub.execute_input": "2024-01-05T15:49:14.947420Z",
     "iopub.status.busy": "2024-01-05T15:49:14.945802Z",
     "iopub.status.idle": "2024-01-05T15:49:14.992685Z",
     "shell.execute_reply": "2024-01-05T15:49:14.990941Z",
     "shell.execute_reply.started": "2024-01-05T15:49:14.947376Z"
    }
   },
   "outputs": [
    {
     "data": {
      "text/plain": [
       "['Although frost is set to hit the south tonight - with temperatures dropping to 1C - Britons stocking up for a barbecue will be in luck tomorrow, with forecasters predicting dry and sunny weather across southern England, southern Wales and the south Midlands.',\n",
       " 'Three day forecast: Tomorrow sunny spells and warm weather is set to cover southern England, but the heavy rain up north is set to stay .',\n",
       " 'Though rain poured down in the north west, the north east enjoyed a bright spell at midday today with sun shining in Harrogate ahead of the rainy weekend .']"
      ]
     },
     "execution_count": 18,
     "metadata": {},
     "output_type": "execute_result"
    }
   ],
   "source": [
    "textrank_summary(article0, 3)"
   ]
  },
  {
   "cell_type": "markdown",
   "metadata": {},
   "source": [
    "Looks like we got a summary to point to temparature changes which looks to be better previous so far"
   ]
  },
  {
   "cell_type": "markdown",
   "metadata": {},
   "source": [
    "## Measuring the Performance of Text Summarization Methods\n",
    "\n",
    "We have seen methods that produce summaries of some given text. Each summary differs from the other in subtle ways, and we have to rely on our subjective evaluation. This is certainly a challenge in selecting a method that works best for a given use case. Let's have a look at commonly used\n",
    "accuracy metrics and see how they can be used to empirically select the best method for summarization. We must understand that to automatically evaluate the summary of some given text, there must be a reference summary that it can be compared with. Typically, this is a summary written by a human and is referred to as the gold standard. Every automatically generated summary can be compared with the gold standard to get an accuracy measure. This also gives us the opportunity to easily compare multiple methods and choose the best one. However, we will often run into the issue that a human-\n",
    "generated summary may not exist for every use case. In such situations, we can choose a proxy measure to be considered as the gold standard. An example in the case of a news article would be the headline. While it is written by a human, it is a poor proxy as it can be quite short and is not an accurate summary but more of a leading statement to draw users. While this may not give us the best results, it is still useful to compare the performance of different summarization methods.\n",
    "\n",
    "Recall-Oriented Understudy for Gisting Evaluation (ROUGE) is one of the most commonly used methods to measure the accuracy of a summary. There are several types of ROUGE metrics, but the basic idea is simple. It arrives at the measure of accuracy by comparing the number of shared terms between the automatically generated summary and the gold standard. ROUGE-N is a metric that measures the number of common n-grams (ROUGE-1 compares individual words, ROUGE-2 compares bigrams, and so on)"
   ]
  },
  {
   "cell_type": "code",
   "execution_count": 19,
   "metadata": {
    "execution": {
     "iopub.execute_input": "2024-01-05T15:49:30.820870Z",
     "iopub.status.busy": "2024-01-05T15:49:30.820394Z",
     "iopub.status.idle": "2024-01-05T15:49:45.501156Z",
     "shell.execute_reply": "2024-01-05T15:49:45.499960Z",
     "shell.execute_reply.started": "2024-01-05T15:49:30.820815Z"
    }
   },
   "outputs": [
    {
     "name": "stdout",
     "output_type": "stream",
     "text": [
      "Collecting rouge-score\n",
      "  Downloading rouge_score-0.1.2.tar.gz (17 kB)\n",
      "  Installing build dependencies: started\n",
      "  Installing build dependencies: finished with status 'done'\n",
      "  Getting requirements to build wheel: started\n",
      "  Getting requirements to build wheel: finished with status 'done'\n",
      "  Installing backend dependencies: started\n",
      "  Installing backend dependencies: finished with status 'done'\n",
      "  Preparing metadata (pyproject.toml): started\n",
      "  Preparing metadata (pyproject.toml): finished with status 'done'\n",
      "Collecting absl-py (from rouge-score)\n",
      "  Downloading absl_py-2.1.0-py3-none-any.whl.metadata (2.3 kB)\n",
      "Requirement already satisfied: nltk in c:\\users\\acer\\appdata\\local\\packages\\pythonsoftwarefoundation.python.3.11_qbz5n2kfra8p0\\localcache\\local-packages\\python311\\site-packages (from rouge-score) (3.8.1)\n",
      "Requirement already satisfied: numpy in c:\\users\\acer\\appdata\\local\\packages\\pythonsoftwarefoundation.python.3.11_qbz5n2kfra8p0\\localcache\\local-packages\\python311\\site-packages (from rouge-score) (1.26.3)\n",
      "Requirement already satisfied: six>=1.14.0 in c:\\users\\acer\\appdata\\local\\packages\\pythonsoftwarefoundation.python.3.11_qbz5n2kfra8p0\\localcache\\local-packages\\python311\\site-packages (from rouge-score) (1.16.0)\n",
      "Requirement already satisfied: click in c:\\users\\acer\\appdata\\local\\packages\\pythonsoftwarefoundation.python.3.11_qbz5n2kfra8p0\\localcache\\local-packages\\python311\\site-packages (from nltk->rouge-score) (8.1.7)\n",
      "Requirement already satisfied: joblib in c:\\users\\acer\\appdata\\local\\packages\\pythonsoftwarefoundation.python.3.11_qbz5n2kfra8p0\\localcache\\local-packages\\python311\\site-packages (from nltk->rouge-score) (1.3.2)\n",
      "Requirement already satisfied: regex>=2021.8.3 in c:\\users\\acer\\appdata\\local\\packages\\pythonsoftwarefoundation.python.3.11_qbz5n2kfra8p0\\localcache\\local-packages\\python311\\site-packages (from nltk->rouge-score) (2023.12.25)\n",
      "Requirement already satisfied: tqdm in c:\\users\\acer\\appdata\\local\\packages\\pythonsoftwarefoundation.python.3.11_qbz5n2kfra8p0\\localcache\\local-packages\\python311\\site-packages (from nltk->rouge-score) (4.66.1)\n",
      "Requirement already satisfied: colorama in c:\\users\\acer\\appdata\\local\\packages\\pythonsoftwarefoundation.python.3.11_qbz5n2kfra8p0\\localcache\\local-packages\\python311\\site-packages (from click->nltk->rouge-score) (0.4.6)\n",
      "Downloading absl_py-2.1.0-py3-none-any.whl (133 kB)\n",
      "   ---------------------------------------- 0.0/133.7 kB ? eta -:--:--\n",
      "   --- ------------------------------------ 10.2/133.7 kB ? eta -:--:--\n",
      "   ----------- --------------------------- 41.0/133.7 kB 487.6 kB/s eta 0:00:01\n",
      "   ----------------------- --------------- 81.9/133.7 kB 919.0 kB/s eta 0:00:01\n",
      "   -------------------------------- ----- 112.6/133.7 kB 726.2 kB/s eta 0:00:01\n",
      "   -------------------------------------- 133.7/133.7 kB 717.8 kB/s eta 0:00:00\n",
      "Building wheels for collected packages: rouge-score\n",
      "  Building wheel for rouge-score (pyproject.toml): started\n",
      "  Building wheel for rouge-score (pyproject.toml): finished with status 'done'\n",
      "  Created wheel for rouge-score: filename=rouge_score-0.1.2-py3-none-any.whl size=24971 sha256=82f2bc573b156a9f0d72ad36cfb1f406ccfc0f80282dc1dd38a2029fa51e22ba\n",
      "  Stored in directory: c:\\users\\acer\\appdata\\local\\pip\\cache\\wheels\\1e\\19\\43\\8a442dc83660ca25e163e1bd1f89919284ab0d0c1475475148\n",
      "Successfully built rouge-score\n",
      "Installing collected packages: absl-py, rouge-score\n",
      "Successfully installed absl-py-2.1.0 rouge-score-0.1.2\n"
     ]
    }
   ],
   "source": [
    "! pip install rouge-score"
   ]
  },
  {
   "cell_type": "code",
   "execution_count": 20,
   "metadata": {
    "execution": {
     "iopub.execute_input": "2024-01-05T15:49:57.826796Z",
     "iopub.status.busy": "2024-01-05T15:49:57.826314Z",
     "iopub.status.idle": "2024-01-05T15:49:57.905513Z",
     "shell.execute_reply": "2024-01-05T15:49:57.903718Z",
     "shell.execute_reply.started": "2024-01-05T15:49:57.826757Z"
    }
   },
   "outputs": [],
   "source": [
    "import rouge_score as rouge\n",
    "from rouge_score.rouge_scorer import RougeScorer\n",
    "\n",
    "\n",
    "def print_rouge_score(rouge_scores):\n",
    "    for k,v in rouge_scores.items():\n",
    "        print (k, 'Precision:', \"{:.2f}\".format(v.precision), 'Recall:', \"{:.2f}\".format(v.recall), 'fmeasure:', \"{:.2f}\".format(v.fmeasure))"
   ]
  },
  {
   "cell_type": "code",
   "execution_count": 21,
   "metadata": {
    "execution": {
     "iopub.execute_input": "2024-01-05T15:49:59.618359Z",
     "iopub.status.busy": "2024-01-05T15:49:59.617275Z",
     "iopub.status.idle": "2024-01-05T15:49:59.734458Z",
     "shell.execute_reply": "2024-01-05T15:49:59.733225Z",
     "shell.execute_reply.started": "2024-01-05T15:49:59.618317Z"
    }
   },
   "outputs": [
    {
     "name": "stdout",
     "output_type": "stream",
     "text": [
      "\n",
      "TextRank Results: \n",
      "\n",
      "rouge1 Precision: 0.23 Recall: 0.42 fmeasure: 0.30\n",
      "rouge2 Precision: 0.06 Recall: 0.12 fmeasure: 0.08\n",
      "rougeL Precision: 0.10 Recall: 0.17 fmeasure: 0.12\n",
      "\n",
      "LSA Results: \n",
      "\n",
      "rouge1 Precision: 0.28 Recall: 0.42 fmeasure: 0.34\n",
      "rouge2 Precision: 0.04 Recall: 0.06 fmeasure: 0.05\n",
      "rougeL Precision: 0.10 Recall: 0.15 fmeasure: 0.12\n",
      "\n",
      "TF-IDF Results: \n",
      "\n",
      "rouge1 Precision: 0.22 Recall: 0.40 fmeasure: 0.28\n",
      "rouge2 Precision: 0.02 Recall: 0.04 fmeasure: 0.03\n",
      "rougeL Precision: 0.09 Recall: 0.17 fmeasure: 0.12\n"
     ]
    }
   ],
   "source": [
    "gold_standard = highlights0\n",
    "summary = ''.join(textrank_summary(article0, 3))\n",
    "\n",
    "scorer = RougeScorer(['rouge1', 'rouge2', 'rougeL'], use_stemmer=True)\n",
    "scores = scorer.score(gold_standard, summary)\n",
    "print('\\nTextRank Results: \\n')\n",
    "print_rouge_score(scores)\n",
    "\n",
    "summary = ''.join(lsa_summary(article0, 3))\n",
    "scores = scorer.score(gold_standard, summary)\n",
    "print('\\nLSA Results: \\n')\n",
    "print_rouge_score(scores)\n",
    "\n",
    "summary = ''.join(tfidf_summary(article0, 3))\n",
    "scores = scorer.score(gold_standard, summary)\n",
    "print('\\nTF-IDF Results: \\n')\n",
    "print_rouge_score(scores)"
   ]
  },
  {
   "cell_type": "markdown",
   "metadata": {},
   "source": [
    "The original ROUGE paper compared how many of the words that appear in the gold standard also appear in the automatically generated summary. So if most of the words present in the gold standard were also present in the generated summary, we would achieve a high score. However, this metric alone does not tell the whole story. Consider that we generate a verbose summary that is long but includes most of the words in the gold standard. This summary\n",
    "would have a high score, but it would not be a good summary since it doesn’t provide a concise representation. This is why the ROUGE measure has been extended to compare the number of shared words to the total number of words in the generated summary as well. This indicates the precision: the number of words in the generated summary that are actually useful. We can combine these measures to generate the F-score."
   ]
  }
 ],
 "metadata": {
  "kernelspec": {
   "display_name": "Python 3 (ipykernel)",
   "language": "python",
   "name": "python3"
  },
  "language_info": {
   "codemirror_mode": {
    "name": "ipython",
    "version": 3
   },
   "file_extension": ".py",
   "mimetype": "text/x-python",
   "name": "python",
   "nbconvert_exporter": "python",
   "pygments_lexer": "ipython3",
   "version": "3.11.8"
  }
 },
 "nbformat": 4,
 "nbformat_minor": 4
}
